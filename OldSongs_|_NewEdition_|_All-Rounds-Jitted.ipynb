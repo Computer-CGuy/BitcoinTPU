{
  "nbformat": 4,
  "nbformat_minor": 0,
  "metadata": {
    "colab": {
      "name": "OldSongs | NewEdition.ipynb",
      "provenance": [],
      "collapsed_sections": [],
      "authorship_tag": "ABX9TyM+rLf9u8oXP/Cesz/KDIZW",
      "include_colab_link": true
    },
    "kernelspec": {
      "name": "python3",
      "display_name": "Python 3"
    },
    "language_info": {
      "name": "python"
    },
    "accelerator": "TPU"
  },
  "cells": [
    {
      "cell_type": "markdown",
      "metadata": {
        "id": "view-in-github",
        "colab_type": "text"
      },
      "source": [
        "<a href=\"https://colab.research.google.com/github/Computer-CGuy/BitcoinTPU/blob/main/OldSongs_%7C_NewEdition_%7C_All-Rounds-Jitted.ipynb\" target=\"_parent\"><img src=\"https://colab.research.google.com/assets/colab-badge.svg\" alt=\"Open In Colab\"/></a>"
      ]
    },
    {
      "cell_type": "code",
      "metadata": {
        "id": "uKQOUEL_oZAD"
      },
      "source": [
        "import jax.tools.colab_tpu\n",
        "jax.tools.colab_tpu.setup_tpu()"
      ],
      "execution_count": 1,
      "outputs": []
    },
    {
      "cell_type": "code",
      "metadata": {
        "id": "7g7LOrG1lmsR"
      },
      "source": [
        "import jax"
      ],
      "execution_count": 2,
      "outputs": []
    },
    {
      "cell_type": "code",
      "metadata": {
        "id": "2908KMHqwO0-"
      },
      "source": [
        "import numpy as np"
      ],
      "execution_count": 3,
      "outputs": []
    },
    {
      "cell_type": "code",
      "metadata": {
        "id": "YFGUmHexlYP_"
      },
      "source": [
        "sha_k =  np.array([ 0x428A2F98, 0x71374491, 0xB5C0FBCF, 0xE9B5DBA5, 0x3956C25B, 0x59F111F1, 0x923F82A4, 0xAB1C5ED5,\\\n",
        " 0xD807AA98, 0x12835B01, 0x243185BE, 0x550C7DC3, 0x72BE5D74, 0x80DEB1FE, 0x9BDC06A7, 0xC19BF174,\\\n",
        " 0xE49B69C1, 0xEFBE4786, 0x0FC19DC6, 0x240CA1CC, 0x2DE92C6F, 0x4A7484AA, 0x5CB0A9DC, 0x76F988DA,\\\n",
        " 0x983E5152, 0xA831C66D, 0xB00327C8, 0xBF597FC7, 0xC6E00BF3, 0xD5A79147, 0x06CA6351, 0x14292967,\\\n",
        " 0x27B70A85, 0x2E1B2138, 0x4D2C6DFC, 0x53380D13, 0x650A7354, 0x766A0ABB, 0x81C2C92E, 0x92722C85,\\\n",
        " 0xA2BFE8A1, 0xA81A664B, 0xC24B8B70, 0xC76C51A3, 0xD192E819, 0xD6990624, 0xF40E3585, 0x106AA070,\\\n",
        " 0x19A4C116, 0x1E376C08, 0x2748774C, 0x34B0BCB5, 0x391C0CB3, 0x4ED8AA4A, 0x5B9CCA4F, 0x682E6FF3,\\\n",
        " 0x748F82EE, 0x78A5636F, 0x84C87814, 0x8CC70208, 0x90BEFFFA, 0xA4506CEB, 0xBEF9A3F7, 0xC67178F2],dtype=np.uint32)"
      ],
      "execution_count": 4,
      "outputs": []
    },
    {
      "cell_type": "code",
      "metadata": {
        "id": "hgt1LBqUuzrB"
      },
      "source": [
        "listed_w = np.random.randint(low=0,high=999,size=(16,),dtype=int)#[0xD807AA98 for x in range(64-16)]"
      ],
      "execution_count": 5,
      "outputs": []
    },
    {
      "cell_type": "code",
      "metadata": {
        "id": "aylGAcK5vjt5"
      },
      "source": [
        "class WhoMe():\n",
        "    def __init__(self,w):\n",
        "        self.w = w\n",
        "    def __getitem__(self,indices):\n",
        "        # print(type(indices))\n",
        "        return getW(indices,self.w)"
      ],
      "execution_count": 6,
      "outputs": []
    },
    {
      "cell_type": "code",
      "metadata": {
        "id": "P_PQDDRySmHJ"
      },
      "source": [
        "x = jax.numpy.ones((5, 6))\n",
        "x = jax.ops.index_update(x, jax.ops.index[::2, 3:], 6.)"
      ],
      "execution_count": 11,
      "outputs": []
    },
    {
      "cell_type": "code",
      "metadata": {
        "colab": {
          "base_uri": "https://localhost:8080/"
        },
        "id": "fyldRGcDSoHg",
        "outputId": "87628486-d7fb-4aa7-9ab9-2cf6022bdca0"
      },
      "source": [
        "x.at[1].set(10)"
      ],
      "execution_count": 16,
      "outputs": [
        {
          "output_type": "execute_result",
          "data": {
            "text/plain": [
              "DeviceArray([[ 1.,  1.,  1.,  6.,  6.,  6.],\n",
              "             [10., 10., 10., 10., 10., 10.],\n",
              "             [ 1.,  1.,  1.,  6.,  6.,  6.],\n",
              "             [ 1.,  1.,  1.,  1.,  1.,  1.],\n",
              "             [ 1.,  1.,  1.,  6.,  6.,  6.]], dtype=float32)"
            ]
          },
          "metadata": {
            "tags": []
          },
          "execution_count": 16
        }
      ]
    },
    {
      "cell_type": "code",
      "metadata": {
        "colab": {
          "base_uri": "https://localhost:8080/"
        },
        "id": "Fo1P7m30TiiY",
        "outputId": "ffa4f2d8-0a26-4be1-c7b8-c45699fc09a9"
      },
      "source": [
        "x"
      ],
      "execution_count": 19,
      "outputs": [
        {
          "output_type": "execute_result",
          "data": {
            "text/plain": [
              "DeviceArray([[1., 1., 1., 6., 6., 6.],\n",
              "             [1., 1., 1., 1., 1., 1.],\n",
              "             [1., 1., 1., 6., 6., 6.],\n",
              "             [1., 1., 1., 1., 1., 1.],\n",
              "             [1., 1., 1., 6., 6., 6.]], dtype=float32)"
            ]
          },
          "metadata": {
            "tags": []
          },
          "execution_count": 19
        }
      ]
    },
    {
      "cell_type": "code",
      "metadata": {
        "id": "dpooL5kKmr_J"
      },
      "source": [
        "def getW(i,w):\n",
        "    # print(i,w)\n",
        "    if(i<16):\n",
        "        return listed_w[i]\n",
        "    else:\n",
        "        return w[i-16]"
      ],
      "execution_count": 75,
      "outputs": []
    },
    {
      "cell_type": "code",
      "metadata": {
        "id": "7tZpBW2bAP7z"
      },
      "source": [
        "def roundtill16(a,b,c,d,e,f,g,h,w_i,sha_k_i):\n",
        "    S0 = (a >> 2 | a << (32-2)) ^ (a >> 13 | a << (32-13)) ^ (a >> 22 | a << (32-22));\n",
        "    maj = (a & b) ^ (a & c) ^ (b & c);\n",
        "    t2 = S0 + maj;\n",
        "    S1 = (e >> 6 | e << (32-6)) ^ (e >> 11 | e << (32-11)) ^ (e >> 25 | e << (32-25));\n",
        "    ch = (e & f) ^ ((~e) & g);\n",
        "    t1 = h + S1 + ch + sha_k_i + w_i;#sha_k[n] + w[n];\n",
        "\n",
        "    h = g; g = f; f = e; e = d + t1;\n",
        "    d = c; c = b; b = a; a = t1 + t2;\n",
        "    return a,b,c,d,e,f,g,h"
      ],
      "execution_count": 76,
      "outputs": []
    },
    {
      "cell_type": "code",
      "metadata": {
        "id": "0pBwxrhoFh5G"
      },
      "source": [
        "def restrounds(a,b,c,d,e,f,g,h,w_):\n",
        "    global n\n",
        "    w = WhoMe(w_)\n",
        "\n",
        "    s0 = (w[n-15] >> 7 | w[n-15] << (32-7)) ^ (w[n-15] >> 18 | w[n-15] << (32-18)) ^ (w[n-15] >> 3);\n",
        "    s1 = (w[n-2] >> 17 | w[n-2] << (32-17)) ^ (w[n-2] >> 19 | w[n-2] << (32-19)) ^ (w[n-2] >> 10);\n",
        "    new_var = w[n-16] + s0 + w[n-7] + s1;\n",
        "    \n",
        "    S0 = (a >> 2 | a << (32-2)) ^ (a >> 13 | a << (32-13)) ^ (a >> 22 | a << (32-22));\n",
        "    maj = (a & b) ^ (a & c) ^ (b & c);\n",
        "    t2 = S0 + maj;\n",
        "    S1 = (e >> 6 | e << (32-6)) ^ (e >> 11 | e << (32-11)) ^ (e >> 25 | e << (32-25));\n",
        "    ch = (e & f) ^ ((~e) & g);\n",
        "    t1 = h + S1 + ch + sha_k[n] + w[n];\n",
        "\n",
        "    h = g; g = f; f = e; e = d + t1;\n",
        "    d = c; c = b; b = a; a = t1 + t2;\n",
        "    # w.w = w.at[n-16].set(new_var)\n",
        "    # w = jax.ops.index_update(w_,jax.ops.index[n-16],new_var)\n",
        "    return a,b,c,d,e,f,g,h,new_var"
      ],
      "execution_count": 77,
      "outputs": []
    },
    {
      "cell_type": "code",
      "metadata": {
        "id": "V14PYgfNBK_P"
      },
      "source": [
        "roundtill16 = jax.jit(roundtill16)"
      ],
      "execution_count": 78,
      "outputs": []
    },
    {
      "cell_type": "code",
      "metadata": {
        "id": "bEjjZtsDCJ2Y"
      },
      "source": [
        "fg = [0x6A09E667, 0xBB67AE85, 0x3C6EF372, 0xA54FF53A, 0x510E527F, 0x9B05688C, 0x1F83D9AB, 0x5BE0CD19]\n",
        "fg = [np.uint32(x) for x in fg]"
      ],
      "execution_count": 79,
      "outputs": []
    },
    {
      "cell_type": "code",
      "metadata": {
        "id": "OejC-tESF7yB"
      },
      "source": [
        "restrounds = jax.jit(restrounds)"
      ],
      "execution_count": 80,
      "outputs": []
    },
    {
      "cell_type": "code",
      "metadata": {
        "id": "AeZc3DlfkW1x"
      },
      "source": [
        "def func(w_):\n",
        "    global fg,n\n",
        "    w = WhoMe(w_)\n",
        "    print(\"hello\")\n",
        "    a,b,c,d,e,f,g,h = fg\n",
        "    for n in range(16):\n",
        "        a,b,c,d,e,f,g,h = roundtill16(a,b,c,d,e,f,g,h,w[n],sha_k[n])\n",
        "    for n in range(16,64):\n",
        "        a,b,c,d,e,f,g,h,new_var = restrounds(a,b,c,d,e,f,g,h,w_)\n",
        "        # print(\"Rounded \",n)\n",
        "        w_ = w_.at[n-16].set(new_var)\n",
        "        # w[n] = new_var\n",
        "        \n",
        "    return a,b,c,d"
      ],
      "execution_count": 81,
      "outputs": []
    },
    {
      "cell_type": "code",
      "metadata": {
        "id": "HygIFGwBlzwl"
      },
      "source": [
        "import numpy as np"
      ],
      "execution_count": 82,
      "outputs": []
    },
    {
      "cell_type": "code",
      "metadata": {
        "id": "luLfS3yFl3aF"
      },
      "source": [
        "\n",
        "key = jax.random.PRNGKey(0)\n",
        "\n",
        "def getRandom(shape):\n",
        "    return jax.random.randint(key = jax.random.PRNGKey(0),minval=0,maxval=1000,shape=shape,dtype=np.uint32)"
      ],
      "execution_count": 71,
      "outputs": []
    },
    {
      "cell_type": "code",
      "metadata": {
        "id": "rHXquDrPn0JC"
      },
      "source": [
        "jax.make_jaxpr(func)(w)"
      ],
      "execution_count": null,
      "outputs": []
    },
    {
      "cell_type": "code",
      "metadata": {
        "id": "psSK75b9olHV"
      },
      "source": [
        "w = jax.device_put(w)"
      ],
      "execution_count": null,
      "outputs": []
    },
    {
      "cell_type": "code",
      "metadata": {
        "id": "39bs-CDNor9C"
      },
      "source": [
        "func = jax.jit(func)"
      ],
      "execution_count": 61,
      "outputs": []
    },
    {
      "cell_type": "code",
      "metadata": {
        "id": "m4Y973ABljJZ"
      },
      "source": [
        "batch = 10000\n",
        "batch = 10\n",
        "# batch1 = 10\n",
        "batch2 = 1000\n",
        "batch2 = 10\n",
        "# w = getRandom((64-12,batch,batch2))\n",
        "# w = getRandom((64-12,batch))\n",
        "w = getRandom((64-12,batch,batch2))\n",
        "# w = jax.device_put(w)\n",
        "# %time _ = jax.jit(func)(w)"
      ],
      "execution_count": 83,
      "outputs": []
    },
    {
      "cell_type": "code",
      "metadata": {
        "id": "wgmQf3k1w32b"
      },
      "source": [
        "func = jax.jit(jax.vmap(func,in_axes=1))"
      ],
      "execution_count": 84,
      "outputs": []
    },
    {
      "cell_type": "code",
      "metadata": {
        "colab": {
          "base_uri": "https://localhost:8080/"
        },
        "id": "JQ0K7pVPVSev",
        "outputId": "899f72de-42e7-45a8-c40e-873eaf2e8489"
      },
      "source": [
        "w[0]"
      ],
      "execution_count": 54,
      "outputs": [
        {
          "output_type": "execute_result",
          "data": {
            "text/plain": [
              "DeviceArray([[864, 738, 181, 951, 720, 358, 381, 240, 391, 967],\n",
              "             [857, 619, 400, 456, 141, 161, 624, 647, 558, 652],\n",
              "             [799, 294, 266, 448, 240, 850, 295, 949, 379, 830],\n",
              "             [202, 520, 646, 856, 862, 629, 150, 292, 795, 694],\n",
              "             [461, 560,  82, 972, 248, 407, 328, 480, 475,   6],\n",
              "             [639, 310, 795, 761, 803, 136, 398, 676, 836, 838],\n",
              "             [709, 883, 259, 299, 768, 260, 216, 206, 532, 888],\n",
              "             [638, 984, 680, 790, 593, 353, 701, 431, 340, 413],\n",
              "             [802, 755, 555, 766, 100, 499, 375, 647, 116, 128],\n",
              "             [487, 189, 502, 469, 394, 909, 711, 912, 713, 637]],            dtype=uint32)"
            ]
          },
          "metadata": {
            "tags": []
          },
          "execution_count": 54
        }
      ]
    },
    {
      "cell_type": "code",
      "metadata": {
        "colab": {
          "base_uri": "https://localhost:8080/"
        },
        "id": "URla0CXSm-HG",
        "outputId": "f9b97f90-ee88-40f0-e769-7794050f22af"
      },
      "source": [
        "%time _ = func(w)[0].block_until_ready()"
      ],
      "execution_count": 95,
      "outputs": [
        {
          "output_type": "stream",
          "text": [
            "CPU times: user 1.94 ms, sys: 830 µs, total: 2.77 ms\n",
            "Wall time: 6.79 ms\n"
          ],
          "name": "stdout"
        }
      ]
    },
    {
      "cell_type": "code",
      "metadata": {
        "colab": {
          "base_uri": "https://localhost:8080/"
        },
        "id": "V87KV10mUova",
        "outputId": "f38977f8-1460-4ad9-8701-a1ce77019297"
      },
      "source": [
        "listed_w[15]"
      ],
      "execution_count": 35,
      "outputs": [
        {
          "output_type": "execute_result",
          "data": {
            "text/plain": [
              "665"
            ]
          },
          "metadata": {
            "tags": []
          },
          "execution_count": 35
        }
      ]
    },
    {
      "cell_type": "code",
      "metadata": {
        "id": "-nrur6q6BXAD"
      },
      "source": [
        "# Jitted first 16 rounds => 14.1 ms => Details (10,10)\n",
        "# Jitted all 64 rounds, it fixed unneccessary variable declaration (see github repo for all changes)=> 4-6 ms => Details (10,10)"
      ],
      "execution_count": null,
      "outputs": []
    },
    {
      "cell_type": "code",
      "metadata": {
        "id": "NKhS6uGQ99kL"
      },
      "source": [
        "from jax.experimental.maps import xmap,mesh"
      ],
      "execution_count": null,
      "outputs": []
    },
    {
      "cell_type": "code",
      "metadata": {
        "id": "wsmuxp2y-hlw"
      },
      "source": [
        "devices = np.array(jax.devices()).reshape((4,2))\n"
      ],
      "execution_count": null,
      "outputs": []
    },
    {
      "cell_type": "code",
      "metadata": {
        "colab": {
          "base_uri": "https://localhost:8080/"
        },
        "id": "CU-t9dopoUSv",
        "outputId": "532cd9ab-6da2-4282-b69f-b6f7d4c18dec"
      },
      "source": [
        "%%time\n",
        "with mesh(devices, ('x','y')):\n",
        "    distributed_out = xmap(\n",
        "        func,\n",
        "        in_axes=({1: 'left', 2: 'right'}),\n",
        "        out_axes=['left', 'right', ...],\n",
        "        axis_resources={'left': 'x', 'right': 'y'})(w)"
      ],
      "execution_count": null,
      "outputs": [
        {
          "output_type": "stream",
          "text": [
            "CPU times: user 33 ms, sys: 59.5 ms, total: 92.6 ms\n",
            "Wall time: 150 ms\n"
          ],
          "name": "stdout"
        },
        {
          "output_type": "stream",
          "text": [
            "/usr/local/lib/python3.7/dist-packages/jax/experimental/maps.py:418: UserWarning: xmap is an experimental feature and probably has bugs!\n",
            "  warn(\"xmap is an experimental feature and probably has bugs!\")\n"
          ],
          "name": "stderr"
        }
      ]
    },
    {
      "cell_type": "code",
      "metadata": {
        "id": "B_upHopK946w"
      },
      "source": [
        ""
      ],
      "execution_count": null,
      "outputs": []
    }
  ]
}