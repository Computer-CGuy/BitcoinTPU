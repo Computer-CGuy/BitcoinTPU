{
  "nbformat": 4,
  "nbformat_minor": 0,
  "metadata": {
    "colab": {
      "name": "Old Songs | JaxEdition.ipynb",
      "provenance": [],
      "authorship_tag": "ABX9TyPLp5t4M4G17ge2OGkR79UZ",
      "include_colab_link": true
    },
    "kernelspec": {
      "name": "python3",
      "display_name": "Python 3"
    },
    "language_info": {
      "name": "python"
    },
    "accelerator": "GPU"
  },
  "cells": [
    {
      "cell_type": "markdown",
      "metadata": {
        "id": "view-in-github",
        "colab_type": "text"
      },
      "source": [
        "<a href=\"https://colab.research.google.com/github/Computer-CGuy/BitcoinTPU/blob/main/Old_Songs_%7C_JaxEdition.ipynb\" target=\"_parent\"><img src=\"https://colab.research.google.com/assets/colab-badge.svg\" alt=\"Open In Colab\"/></a>"
      ]
    },
    {
      "cell_type": "code",
      "metadata": {
        "id": "TYuPmrJCmjhp"
      },
      "source": [
        "import jax\n",
        "import jax.numpy as np\n",
        "import jax.numpy as jnp"
      ],
      "execution_count": 1,
      "outputs": []
    },
    {
      "cell_type": "code",
      "metadata": {
        "id": "ekmFeKQ9nR__"
      },
      "source": [
        "from jax import grad, jit, vmap\n",
        "from jax import random"
      ],
      "execution_count": 2,
      "outputs": []
    },
    {
      "cell_type": "code",
      "metadata": {
        "id": "R2naFEM5mtR6"
      },
      "source": [
        "from jax import device_put"
      ],
      "execution_count": 3,
      "outputs": []
    },
    {
      "cell_type": "markdown",
      "metadata": {
        "id": "htyjVIOFqnOM"
      },
      "source": [
        "## VMAP test"
      ]
    },
    {
      "cell_type": "code",
      "metadata": {
        "id": "u9sggIl9nnNT"
      },
      "source": [
        "key = random.PRNGKey(0)\n",
        "mat = random.normal(key, (150, 100))\n",
        "batched_x = random.normal(key, (10, 100))\n"
      ],
      "execution_count": 28,
      "outputs": []
    },
    {
      "cell_type": "code",
      "metadata": {
        "id": "YZVRz276nRgD"
      },
      "source": [
        "# key =100008\n",
        "\n",
        "def apply_matrix(v):\n",
        "  return jnp.dot(mat, v)+jnp.dot(mat, v)"
      ],
      "execution_count": 29,
      "outputs": []
    },
    {
      "cell_type": "code",
      "metadata": {
        "colab": {
          "base_uri": "https://localhost:8080/"
        },
        "id": "B4BLWos0nf9D",
        "outputId": "9be99e44-84e6-4191-d765-91a72192a44b"
      },
      "source": [
        "def naively_batched_apply_matrix(v_batched):\n",
        "  return jnp.stack([apply_matrix(v) for v in v_batched])\n",
        "\n",
        "print('Naively batched')\n",
        "%timeit naively_batched_apply_matrix(batched_x).block_until_ready()"
      ],
      "execution_count": 30,
      "outputs": [
        {
          "output_type": "stream",
          "text": [
            "Naively batched\n",
            "100 loops, best of 5: 13.5 ms per loop\n"
          ],
          "name": "stdout"
        }
      ]
    },
    {
      "cell_type": "code",
      "metadata": {
        "colab": {
          "base_uri": "https://localhost:8080/"
        },
        "id": "XFaLYLuint9b",
        "outputId": "73ba36c6-c850-4727-9716-e468b28da91f"
      },
      "source": [
        "@jit\n",
        "def batched_apply_matrix(v_batched):\n",
        "  return jnp.dot(v_batched, mat.T)\n",
        "\n",
        "print('Manually batched')\n",
        "%timeit batched_apply_matrix(batched_x).block_until_ready()"
      ],
      "execution_count": 31,
      "outputs": [
        {
          "output_type": "stream",
          "text": [
            "Manually batched\n",
            "The slowest run took 284.39 times longer than the fastest. This could mean that an intermediate result is being cached.\n",
            "10000 loops, best of 5: 62.6 µs per loop\n"
          ],
          "name": "stdout"
        }
      ]
    },
    {
      "cell_type": "code",
      "metadata": {
        "colab": {
          "base_uri": "https://localhost:8080/"
        },
        "id": "8wUxpLytnvym",
        "outputId": "3df0b6a1-964a-484a-c7d8-162da5381e4f"
      },
      "source": [
        "@jit\n",
        "def vmap_batched_apply_matrix(v_batched):\n",
        "  return vmap(apply_matrix)(v_batched)\n",
        "\n",
        "print('Auto-vectorized with vmap')\n",
        "%timeit vmap_batched_apply_matrix(batched_x).block_until_ready()"
      ],
      "execution_count": 32,
      "outputs": [
        {
          "output_type": "stream",
          "text": [
            "Auto-vectorized with vmap\n",
            "The slowest run took 831.21 times longer than the fastest. This could mean that an intermediate result is being cached.\n",
            "10000 loops, best of 5: 81.4 µs per loop\n"
          ],
          "name": "stdout"
        }
      ]
    },
    {
      "cell_type": "markdown",
      "metadata": {
        "id": "9mLH5Xdnqpfp"
      },
      "source": [
        "## Main Code\n"
      ]
    },
    {
      "cell_type": "code",
      "metadata": {
        "id": "n_1TnKkz5Dw3"
      },
      "source": [
        "_k = [0x428a2f98, 0x71374491, 0xb5c0fbcf, 0xe9b5dba5,0x3956c25b, 0x59f111f1, 0x923f82a4, 0xab1c5ed5,0xd807aa98, 0x12835b01, 0x243185be, 0x550c7dc3,0x72be5d74, 0x80deb1fe, 0x9bdc06a7, 0xc19bf174,0xe49b69c1, 0xefbe4786, 0x0fc19dc6, 0x240ca1cc,0x2de92c6f, 0x4a7484aa, 0x5cb0a9dc, 0x76f988da,0x983e5152, 0xa831c66d, 0xb00327c8, 0xbf597fc7,0xc6e00bf3, 0xd5a79147, 0x06ca6351, 0x14292967,0x27b70a85, 0x2e1b2138, 0x4d2c6dfc, 0x53380d13,0x650a7354, 0x766a0abb, 0x81c2c92e, 0x92722c85,0xa2bfe8a1, 0xa81a664b, 0xc24b8b70, 0xc76c51a3,0xd192e819, 0xd6990624, 0xf40e3585, 0x106aa070,0x19a4c116, 0x1e376c08, 0x2748774c, 0x34b0bcb5,0x391c0cb3, 0x4ed8aa4a, 0x5b9cca4f, 0x682e6ff3,0x748f82ee, 0x78a5636f, 0x84c87814, 0x8cc70208,0x90befffa, 0xa4506ceb, 0xbef9a3f7, 0xc67178f2]\n",
        "w_init = [1633779712, 0, 0, 0, 0, 0, 0, 0, 0, 0, 0, 0, 0, 0, 0, 16, 1633779712, 655360, 4028130556, 1073742468, 1054728214, 16951296, 1275490269, 1650573323, 4195356184, 3358894600, 1190258893, 4283781196, 3396427740, 1310106865, 109912110, 3992192224, 3718962921, 3366911842, 606963060, 4270064082, 2838786825, 2976635877, 1549026422, 64942781, 2406927427, 2077005080, 3607598593, 2011791591, 4164220569, 2947864758, 3446355188, 4102404423, 3115010575, 2566757838, 584613669, 2397578555, 3038678904, 2334119052, 2922065041, 4099942322, 925755302, 2995116319, 1430589485, 2514036726, 4225725885, 1376483090, 357258090, 3690550341]"
      ],
      "execution_count": 37,
      "outputs": []
    },
    {
      "cell_type": "code",
      "metadata": {
        "id": "LU6wk-F-qrey"
      },
      "source": [
        "_h = [0x6a09e667, 0xbb67ae85, 0x3c6ef372, 0xa54ff53a,0x510e527f, 0x9b05688c, 0x1f83d9ab, 0x5be0cd19]\n",
        "def _rotr(x, y):\n",
        "    return ((x >> y) | (x << (32 - y))) \n",
        "def _maj(x, y, z):\n",
        "    return (x & y) ^ (x & z) ^ (y & z)\n",
        "def _ch(x, y, z):\n",
        "    return (x & y) ^ ((~x) & z)\n",
        "def sigma0(x):\n",
        "\treturn _rotr(x, 2) ^ _rotr(x, 13) ^ _rotr(x, 22)\n",
        "def sigma1(x):\n",
        "\treturn _rotr(x, 6) ^ _rotr(x, 11) ^ _rotr(x, 25)"
      ],
      "execution_count": 4,
      "outputs": []
    },
    {
      "cell_type": "code",
      "metadata": {
        "id": "-3EquUoOsY8Z"
      },
      "source": [
        "F32 = 0xFFFFFFFF"
      ],
      "execution_count": 24,
      "outputs": []
    },
    {
      "cell_type": "code",
      "metadata": {
        "id": "YdyCvn7Q3ugt"
      },
      "source": [
        "def body_fun(i,sampled):\n",
        "    # print(val)\n",
        "    # w,a,b,c,d,e,f,g,h,k,i = val\n",
        "    # a,b,c,d,e,f,g,h\n",
        "    # 0,1,2,3,4,5,6,7\n",
        "    s0 = sigma0(sampled[0])\n",
        "    s1 = sigma1(sampled[4])\n",
        "\n",
        "\n",
        "    t1 = sampled[7] + s1 + _ch(sampled[4], sampled[5], sampled[6])\n",
        "    # k[i]+w[i]\n",
        "    t2 = s0 + _maj(sampled[0], sampled[1], sampled[2]) \n",
        "\n",
        "    jax.ops.index_update(sampled, jax.ops.index[1:], sampled[:-1])\n",
        "    jax.ops.index_update(sampled, jax.ops.index[0], t1+t2)\n",
        "    jax.ops.index_update(sampled, jax.ops.index[3], (sampled[3] + t1) )\n",
        "    # sampled[0]=t1+t2\n",
        "    # sampled[4]=(sampled[3] + t1) \n",
        "    # h = g\n",
        "    # g = f\n",
        "    # f = e\n",
        "    # e = (sampled[3] + t1) \n",
        "    # d = c\n",
        "    # c = b\t\n",
        "    # b = a\n",
        "    # a = (t1 + t2)\n",
        "    return sampled"
      ],
      "execution_count": 5,
      "outputs": []
    },
    {
      "cell_type": "code",
      "metadata": {
        "id": "qpRUpcbi5ZPi"
      },
      "source": [
        "import random"
      ],
      "execution_count": 6,
      "outputs": []
    },
    {
      "cell_type": "code",
      "metadata": {
        "id": "5s9kcjaC8ezn"
      },
      "source": [
        "import numpy as npo"
      ],
      "execution_count": 6,
      "outputs": []
    },
    {
      "cell_type": "code",
      "metadata": {
        "id": "_jcBLn8_4qLp"
      },
      "source": [
        "# init_val = [random.randint(3, F32//10) for x in range(11)]\n",
        "# # _h = [0x6a09e667, 0xbb67ae85, 0x3c6ef372, 0xa54ff53a,0x510e527f, 0x9b05688c, 0x1f83d9ab, 0x5be0cd19]\n",
        "# # init_val[1:-1]=_h\n",
        "# init_val[0]=[random.randint(3, F32//10) for x in range(len(w_init))]\n",
        "# init_val[-2]=[random.randint(3, F32//10) for x in range(len(_k))]\n",
        "# init_val[-1]=0\n",
        "key = random.PRNGKey(0)"
      ],
      "execution_count": 7,
      "outputs": []
    },
    {
      "cell_type": "code",
      "metadata": {
        "id": "mi3PbMHT8JKQ"
      },
      "source": [
        "init_val"
      ],
      "execution_count": null,
      "outputs": []
    },
    {
      "cell_type": "code",
      "metadata": {
        "id": "1SloYD72AeZS"
      },
      "source": [
        "import timeit"
      ],
      "execution_count": 13,
      "outputs": []
    },
    {
      "cell_type": "code",
      "metadata": {
        "id": "qoXNYzEj1lEJ"
      },
      "source": [
        "# init_val = 0\n",
        "start = 0\n",
        "stop = 64\n",
        "\n",
        "# in_array_size = 1000\n",
        "\n",
        "# init_val = npo.random.randint(low=0,high=1000,size=(8,in_array_size),dtype=npo.int32)\n",
        "# init_val = device_put(init_val)"
      ],
      "execution_count": 10,
      "outputs": []
    },
    {
      "cell_type": "code",
      "metadata": {
        "id": "HwL5hZ-SArkn"
      },
      "source": [
        "def call():\n",
        "    jax.lax.fori_loop(start, stop, body_fun, init_val).block_until_ready()"
      ],
      "execution_count": 48,
      "outputs": []
    },
    {
      "cell_type": "code",
      "metadata": {
        "id": "ArjF58g-AkMg"
      },
      "source": [
        "timeit.timeit(call)"
      ],
      "execution_count": null,
      "outputs": []
    },
    {
      "cell_type": "code",
      "metadata": {
        "colab": {
          "base_uri": "https://localhost:8080/"
        },
        "id": "OzKkQEvd_aW4",
        "outputId": "37de0d58-9363-4473-cea1-41fe78549b75"
      },
      "source": [
        "# in_array_size = 1000\n",
        "%timeit jax.lax.fori_loop(start, stop, body_fun, init_val).block_until_ready()"
      ],
      "execution_count": 15,
      "outputs": [
        {
          "output_type": "stream",
          "text": [
            "The slowest run took 204.00 times longer than the fastest. This could mean that an intermediate result is being cached.\n",
            "1000 loops, best of 5: 815 µs per loop\n"
          ],
          "name": "stdout"
        }
      ]
    },
    {
      "cell_type": "code",
      "metadata": {
        "id": "BxKhisz_Bzhe"
      },
      "source": [
        "import time\n"
      ],
      "execution_count": 8,
      "outputs": []
    },
    {
      "cell_type": "code",
      "metadata": {
        "id": "H6Hw6b5GC2gH"
      },
      "source": [
        "del init_val"
      ],
      "execution_count": 11,
      "outputs": []
    },
    {
      "cell_type": "code",
      "metadata": {
        "id": "MGOdR1YUDokp"
      },
      "source": [
        "def callme(init_val):\n",
        "    return jax.lax.fori_loop(0, 64, body_fun, init_val)#.block_until_ready()"
      ],
      "execution_count": 22,
      "outputs": []
    },
    {
      "cell_type": "code",
      "metadata": {
        "id": "TeL7OixYDvJU"
      },
      "source": [
        "callme = jit(callme)"
      ],
      "execution_count": 19,
      "outputs": []
    },
    {
      "cell_type": "code",
      "metadata": {
        "id": "q7gYHPRpBQGc"
      },
      "source": [
        "# in_array_size = 1000\n",
        "in_array_size = 50000000\n",
        "\n",
        "init_val = npo.random.randint(low=0,high=1000,size=(8,in_array_size),dtype=npo.int32)\n",
        "init_val = device_put(init_val)\n",
        "t0 = time.time()\n",
        "\n",
        "jax.vmap(callme,in_axes=1)(init_val).block_until_ready()\n",
        "t1 = time.time()\n",
        "print((\"{:,}\".format(in_array_size/(t1-t0))))\n",
        "# print()"
      ],
      "execution_count": null,
      "outputs": []
    },
    {
      "cell_type": "code",
      "metadata": {
        "colab": {
          "base_uri": "https://localhost:8080/"
        },
        "id": "rfTjhY_qDVoZ",
        "outputId": "d0ed101c-06e6-410d-b899-7424f6dc951c"
      },
      "source": [
        "jax.vmap(callme)(init_val)"
      ],
      "execution_count": 24,
      "outputs": [
        {
          "output_type": "execute_result",
          "data": {
            "text/plain": [
              "DeviceArray([[734, 456, 616, ..., 864, 806,   2],\n",
              "             [170, 314, 126, ...,  82, 925, 835],\n",
              "             [307, 978, 753, ..., 258, 702, 739],\n",
              "             ...,\n",
              "             [695, 959, 679, ..., 221, 209, 213],\n",
              "             [138, 509, 477, ..., 370, 679, 885],\n",
              "             [448, 718, 922, ..., 174, 967, 711]], dtype=int32)"
            ]
          },
          "metadata": {
            "tags": []
          },
          "execution_count": 24
        }
      ]
    }
  ]
}