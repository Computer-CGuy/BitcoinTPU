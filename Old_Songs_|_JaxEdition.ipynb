{
  "nbformat": 4,
  "nbformat_minor": 0,
  "metadata": {
    "colab": {
      "name": "Old Songs | JaxEdition.ipynb",
      "provenance": [],
      "authorship_tag": "ABX9TyO8tEpMVUo6blK29HaS3l0o",
      "include_colab_link": true
    },
    "kernelspec": {
      "name": "python3",
      "display_name": "Python 3"
    },
    "language_info": {
      "name": "python"
    },
    "accelerator": "TPU"
  },
  "cells": [
    {
      "cell_type": "markdown",
      "metadata": {
        "id": "view-in-github",
        "colab_type": "text"
      },
      "source": [
        "<a href=\"https://colab.research.google.com/github/Computer-CGuy/BitcoinTPU/blob/main/Old_Songs_%7C_JaxEdition.ipynb\" target=\"_parent\"><img src=\"https://colab.research.google.com/assets/colab-badge.svg\" alt=\"Open In Colab\"/></a>"
      ]
    },
    {
      "cell_type": "code",
      "metadata": {
        "id": "tjCPkoXTHSQ7"
      },
      "source": [
        "import jax.tools.colab_tpu\n",
        "jax.tools.colab_tpu.setup_tpu()"
      ],
      "execution_count": null,
      "outputs": []
    },
    {
      "cell_type": "code",
      "metadata": {
        "id": "TYuPmrJCmjhp"
      },
      "source": [
        "import jax\n",
        "import jax.numpy as np\n",
        "import jax.numpy as jnp"
      ],
      "execution_count": null,
      "outputs": []
    },
    {
      "cell_type": "code",
      "metadata": {
        "id": "ekmFeKQ9nR__"
      },
      "source": [
        "from jax import grad, jit, vmap\n",
        "from jax import random"
      ],
      "execution_count": null,
      "outputs": []
    },
    {
      "cell_type": "code",
      "metadata": {
        "id": "R2naFEM5mtR6"
      },
      "source": [
        "from jax import device_put"
      ],
      "execution_count": null,
      "outputs": []
    },
    {
      "cell_type": "markdown",
      "metadata": {
        "id": "9mLH5Xdnqpfp"
      },
      "source": [
        "## Main Code\n"
      ]
    },
    {
      "cell_type": "code",
      "metadata": {
        "id": "LU6wk-F-qrey"
      },
      "source": [
        "_h = [0x6a09e667, 0xbb67ae85, 0x3c6ef372, 0xa54ff53a,0x510e527f, 0x9b05688c, 0x1f83d9ab, 0x5be0cd19]\n",
        "def _rotr(x, y):\n",
        "    return ((x >> y) | (x << (32 - y))) \n",
        "def _maj(x, y, z):\n",
        "    return (x & y) ^ (x & z) ^ (y & z)\n",
        "def _ch(x, y, z):\n",
        "    return (x & y) ^ ((~x) & z)\n",
        "def sigma0(x):\n",
        "\treturn _rotr(x, 2) ^ _rotr(x, 13) ^ _rotr(x, 22)\n",
        "def sigma1(x):\n",
        "\treturn _rotr(x, 6) ^ _rotr(x, 11) ^ _rotr(x, 25)"
      ],
      "execution_count": null,
      "outputs": []
    },
    {
      "cell_type": "code",
      "metadata": {
        "id": "YdyCvn7Q3ugt"
      },
      "source": [
        "def body_fun(i,sampled):\n",
        "    # print(val)\n",
        "    # w,a,b,c,d,e,f,g,h,k,i = val\n",
        "    # a,b,c,d,e,f,g,h\n",
        "    # 0,1,2,3,4,5,6,7\n",
        "    s0 = sigma0(sampled[0])\n",
        "    s1 = sigma1(sampled[4])\n",
        "\n",
        "\n",
        "    t1 = sampled[7] + s1 + _ch(sampled[4], sampled[5], sampled[6])\n",
        "    # k[i]+w[i]\n",
        "    t2 = s0 + _maj(sampled[0], sampled[1], sampled[2]) \n",
        "\n",
        "    jax.ops.index_update(sampled, jax.ops.index[1:], sampled[:-1])\n",
        "    jax.ops.index_update(sampled, jax.ops.index[0], t1+t2)\n",
        "    jax.ops.index_update(sampled, jax.ops.index[3], (sampled[3] + t1) )\n",
        "    # sampled[0]=t1+t2\n",
        "    # sampled[4]=(sampled[3] + t1) \n",
        "    # h = g\n",
        "    # g = f\n",
        "    # f = e\n",
        "    # e = (sampled[3] + t1) \n",
        "    # d = c\n",
        "    # c = b\t\n",
        "    # b = a\n",
        "    # a = (t1 + t2)\n",
        "    return sampled"
      ],
      "execution_count": null,
      "outputs": []
    },
    {
      "cell_type": "code",
      "metadata": {
        "id": "5s9kcjaC8ezn"
      },
      "source": [
        "import numpy as npo"
      ],
      "execution_count": null,
      "outputs": []
    },
    {
      "cell_type": "code",
      "metadata": {
        "id": "MGOdR1YUDokp"
      },
      "source": [
        "key = random.PRNGKey(0)\n",
        "import time\n",
        "def callme(init_val):\n",
        "    return jax.lax.fori_loop(0, 64, body_fun, init_val)#.block_until_ready()\n",
        "callme = jit(callme)"
      ],
      "execution_count": null,
      "outputs": []
    },
    {
      "cell_type": "code",
      "metadata": {
        "colab": {
          "base_uri": "https://localhost:8080/"
        },
        "id": "oFXfJWprHb-C",
        "outputId": "e353d9d7-6e1f-4dc7-cbc8-cd09d3f590c0"
      },
      "source": [
        "jax.devices()"
      ],
      "execution_count": null,
      "outputs": [
        {
          "output_type": "execute_result",
          "data": {
            "text/plain": [
              "[TpuDevice(id=0, process_index=0, coords=(0,0,0), core_on_chip=0),\n",
              " TpuDevice(id=1, process_index=0, coords=(0,0,0), core_on_chip=1),\n",
              " TpuDevice(id=2, process_index=0, coords=(1,0,0), core_on_chip=0),\n",
              " TpuDevice(id=3, process_index=0, coords=(1,0,0), core_on_chip=1),\n",
              " TpuDevice(id=4, process_index=0, coords=(0,1,0), core_on_chip=0),\n",
              " TpuDevice(id=5, process_index=0, coords=(0,1,0), core_on_chip=1),\n",
              " TpuDevice(id=6, process_index=0, coords=(1,1,0), core_on_chip=0),\n",
              " TpuDevice(id=7, process_index=0, coords=(1,1,0), core_on_chip=1)]"
            ]
          },
          "metadata": {
            "tags": []
          },
          "execution_count": 9
        }
      ]
    },
    {
      "cell_type": "code",
      "metadata": {
        "colab": {
          "base_uri": "https://localhost:8080/"
        },
        "id": "q7gYHPRpBQGc",
        "outputId": "f2a7b105-3875-471a-9c14-38e2f29e8f3e"
      },
      "source": [
        "# in_array_size = 1000\n",
        "in_array_size = 10000\n",
        "in_d = 1000\n",
        "ls = [10,100,1000,10000,100000]\n",
        "\n",
        "for in_d in ls:\n",
        "    for in_array_size in ls:\n",
        "        init_val = npo.random.randint(low=0,high=1000,size=(8,in_array_size,in_d),dtype=npo.int32)\n",
        "        init_val = device_put(init_val)\n",
        "        t0 = time.time()\n",
        "\n",
        "        jax.vmap(callme,in_axes=1)(init_val).block_until_ready()\n",
        "        t1 = time.time()\n",
        "        print(in_array_size,in_d,\"{:,}\".format((in_array_size*in_d)/(t1-t0)))\n",
        "        # print()"
      ],
      "execution_count": null,
      "outputs": [
        {
          "output_type": "stream",
          "text": [
            "10 10 524.3922229543122\n",
            "100 10 6,981.105444667847\n",
            "1000 10 69,029.99641214866\n",
            "10000 10 580,228.5608358891\n",
            "100000 10 2,874,500.219992297\n",
            "10 100 4,808.404582900563\n",
            "100 100 63,943.79939506293\n",
            "1000 100 521,222.5598200583\n",
            "10000 100 2,748,546.5344873685\n",
            "100000 100 2,306,965.4305880344\n",
            "10 1000 50,152.38332105721\n",
            "100 1000 566,295.8242422934\n",
            "1000 1000 1,195,516.6529328083\n",
            "10000 1000 2,771,840.406961798\n"
          ],
          "name": "stdout"
        }
      ]
    },
    {
      "cell_type": "code",
      "metadata": {
        "colab": {
          "base_uri": "https://localhost:8080/"
        },
        "id": "rfTjhY_qDVoZ",
        "outputId": "658927b5-355e-4065-ab6c-4c078a9af558"
      },
      "source": [
        "jax.vmap(callme)(init_val)"
      ],
      "execution_count": null,
      "outputs": [
        {
          "output_type": "execute_result",
          "data": {
            "text/plain": [
              "DeviceArray([[743, 461, 195, ..., 657, 948, 340],\n",
              "             [813, 952, 449, ..., 590, 578, 643],\n",
              "             [156, 414, 277, ..., 867, 806, 619],\n",
              "             ...,\n",
              "             [417,  28, 689, ..., 285,  59, 623],\n",
              "             [655, 297, 661, ..., 210, 396,  60],\n",
              "             [429, 344,   8, ..., 702, 235, 795]], dtype=int32)"
            ]
          },
          "metadata": {
            "tags": []
          },
          "execution_count": 9
        }
      ]
    }
  ]
}