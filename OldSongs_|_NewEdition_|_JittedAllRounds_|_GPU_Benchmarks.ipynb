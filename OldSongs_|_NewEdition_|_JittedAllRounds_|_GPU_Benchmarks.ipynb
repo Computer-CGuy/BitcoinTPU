{
  "nbformat": 4,
  "nbformat_minor": 0,
  "metadata": {
    "colab": {
      "name": "OldSongs | NewEdition.ipynb",
      "provenance": [],
      "collapsed_sections": [],
      "authorship_tag": "ABX9TyOJG7Sb/dbhAuCpBQKdbBzO",
      "include_colab_link": true
    },
    "kernelspec": {
      "name": "python3",
      "display_name": "Python 3"
    },
    "language_info": {
      "name": "python"
    },
    "accelerator": "GPU"
  },
  "cells": [
    {
      "cell_type": "markdown",
      "metadata": {
        "id": "view-in-github",
        "colab_type": "text"
      },
      "source": [
        "<a href=\"https://colab.research.google.com/github/Computer-CGuy/BitcoinTPU/blob/main/OldSongs_%7C_NewEdition_%7C_JittedAllRounds_%7C_GPU_Benchmarks.ipynb\" target=\"_parent\"><img src=\"https://colab.research.google.com/assets/colab-badge.svg\" alt=\"Open In Colab\"/></a>"
      ]
    },
    {
      "cell_type": "code",
      "metadata": {
        "id": "uKQOUEL_oZAD"
      },
      "source": [
        "import jax.tools.colab_tpu\n",
        "jax.tools.colab_tpu.setup_tpu()"
      ],
      "execution_count": null,
      "outputs": []
    },
    {
      "cell_type": "code",
      "metadata": {
        "id": "7g7LOrG1lmsR"
      },
      "source": [
        "import jax"
      ],
      "execution_count": 2,
      "outputs": []
    },
    {
      "cell_type": "code",
      "metadata": {
        "id": "2908KMHqwO0-"
      },
      "source": [
        "import numpy as np"
      ],
      "execution_count": 3,
      "outputs": []
    },
    {
      "cell_type": "code",
      "metadata": {
        "id": "YFGUmHexlYP_"
      },
      "source": [
        "sha_k =  np.array([ 0x428A2F98, 0x71374491, 0xB5C0FBCF, 0xE9B5DBA5, 0x3956C25B, 0x59F111F1, 0x923F82A4, 0xAB1C5ED5,\\\n",
        " 0xD807AA98, 0x12835B01, 0x243185BE, 0x550C7DC3, 0x72BE5D74, 0x80DEB1FE, 0x9BDC06A7, 0xC19BF174,\\\n",
        " 0xE49B69C1, 0xEFBE4786, 0x0FC19DC6, 0x240CA1CC, 0x2DE92C6F, 0x4A7484AA, 0x5CB0A9DC, 0x76F988DA,\\\n",
        " 0x983E5152, 0xA831C66D, 0xB00327C8, 0xBF597FC7, 0xC6E00BF3, 0xD5A79147, 0x06CA6351, 0x14292967,\\\n",
        " 0x27B70A85, 0x2E1B2138, 0x4D2C6DFC, 0x53380D13, 0x650A7354, 0x766A0ABB, 0x81C2C92E, 0x92722C85,\\\n",
        " 0xA2BFE8A1, 0xA81A664B, 0xC24B8B70, 0xC76C51A3, 0xD192E819, 0xD6990624, 0xF40E3585, 0x106AA070,\\\n",
        " 0x19A4C116, 0x1E376C08, 0x2748774C, 0x34B0BCB5, 0x391C0CB3, 0x4ED8AA4A, 0x5B9CCA4F, 0x682E6FF3,\\\n",
        " 0x748F82EE, 0x78A5636F, 0x84C87814, 0x8CC70208, 0x90BEFFFA, 0xA4506CEB, 0xBEF9A3F7, 0xC67178F2],dtype=np.uint32)"
      ],
      "execution_count": 4,
      "outputs": []
    },
    {
      "cell_type": "code",
      "metadata": {
        "id": "hgt1LBqUuzrB"
      },
      "source": [
        "listed_w = np.random.randint(low=0,high=999,size=(16,),dtype=int)#[0xD807AA98 for x in range(64-16)]"
      ],
      "execution_count": 37,
      "outputs": []
    },
    {
      "cell_type": "code",
      "metadata": {
        "id": "aylGAcK5vjt5"
      },
      "source": [
        "class WhoMe():\n",
        "    def __init__(self,w):\n",
        "        self.w = w\n",
        "    def __getitem__(self,indices):\n",
        "        # print(type(indices))\n",
        "        return getW(indices,self.w)"
      ],
      "execution_count": 38,
      "outputs": []
    },
    {
      "cell_type": "code",
      "metadata": {
        "id": "dpooL5kKmr_J"
      },
      "source": [
        "def getW(i,w):\n",
        "    # print(i,w)\n",
        "    if(i<16):\n",
        "        return listed_w[i]\n",
        "    else:\n",
        "        return w[i-16]"
      ],
      "execution_count": 39,
      "outputs": []
    },
    {
      "cell_type": "code",
      "metadata": {
        "id": "7tZpBW2bAP7z"
      },
      "source": [
        "def roundtill16(a,b,c,d,e,f,g,h,w_i,sha_k_i):\n",
        "    S0 = (a >> 2 | a << (32-2)) ^ (a >> 13 | a << (32-13)) ^ (a >> 22 | a << (32-22));\n",
        "    maj = (a & b) ^ (a & c) ^ (b & c);\n",
        "    t2 = S0 + maj;\n",
        "    S1 = (e >> 6 | e << (32-6)) ^ (e >> 11 | e << (32-11)) ^ (e >> 25 | e << (32-25));\n",
        "    ch = (e & f) ^ ((~e) & g);\n",
        "    t1 = h + S1 + ch + sha_k_i + w_i;#sha_k[n] + w[n];\n",
        "\n",
        "    h = g; g = f; f = e; e = d + t1;\n",
        "    d = c; c = b; b = a; a = t1 + t2;\n",
        "    return a,b,c,d,e,f,g,h"
      ],
      "execution_count": 40,
      "outputs": []
    },
    {
      "cell_type": "code",
      "metadata": {
        "id": "0pBwxrhoFh5G"
      },
      "source": [
        "def restrounds(a,b,c,d,e,f,g,h,w_):\n",
        "    global n\n",
        "    w = WhoMe(w_)\n",
        "\n",
        "    s0 = (w[n-15] >> 7 | w[n-15] << (32-7)) ^ (w[n-15] >> 18 | w[n-15] << (32-18)) ^ (w[n-15] >> 3);\n",
        "    s1 = (w[n-2] >> 17 | w[n-2] << (32-17)) ^ (w[n-2] >> 19 | w[n-2] << (32-19)) ^ (w[n-2] >> 10);\n",
        "    new_var = w[n-16] + s0 + w[n-7] + s1;\n",
        "    \n",
        "    S0 = (a >> 2 | a << (32-2)) ^ (a >> 13 | a << (32-13)) ^ (a >> 22 | a << (32-22));\n",
        "    maj = (a & b) ^ (a & c) ^ (b & c);\n",
        "    t2 = S0 + maj;\n",
        "    S1 = (e >> 6 | e << (32-6)) ^ (e >> 11 | e << (32-11)) ^ (e >> 25 | e << (32-25));\n",
        "    ch = (e & f) ^ ((~e) & g);\n",
        "    t1 = h + S1 + ch + sha_k[n] + w[n];\n",
        "\n",
        "    h = g; g = f; f = e; e = d + t1;\n",
        "    d = c; c = b; b = a; a = t1 + t2;\n",
        "    # w.w = w.at[n-16].set(new_var)\n",
        "    # w = jax.ops.index_update(w_,jax.ops.index[n-16],new_var)\n",
        "    return a,b,c,d,e,f,g,h,new_var"
      ],
      "execution_count": 41,
      "outputs": []
    },
    {
      "cell_type": "code",
      "metadata": {
        "id": "V14PYgfNBK_P"
      },
      "source": [
        "roundtill16 = jax.jit(roundtill16)"
      ],
      "execution_count": 42,
      "outputs": []
    },
    {
      "cell_type": "code",
      "metadata": {
        "id": "bEjjZtsDCJ2Y"
      },
      "source": [
        "fg = [0x6A09E667, 0xBB67AE85, 0x3C6EF372, 0xA54FF53A, 0x510E527F, 0x9B05688C, 0x1F83D9AB, 0x5BE0CD19]\n",
        "fg = [np.uint32(x) for x in fg]"
      ],
      "execution_count": 43,
      "outputs": []
    },
    {
      "cell_type": "code",
      "metadata": {
        "id": "OejC-tESF7yB"
      },
      "source": [
        "restrounds = jax.jit(restrounds)"
      ],
      "execution_count": 44,
      "outputs": []
    },
    {
      "cell_type": "code",
      "metadata": {
        "id": "AeZc3DlfkW1x"
      },
      "source": [
        "def func(w_):\n",
        "    global fg,n\n",
        "    w = WhoMe(w_)\n",
        "    print(\"hello\")\n",
        "    a,b,c,d,e,f,g,h = fg\n",
        "    for n in range(16):\n",
        "        a,b,c,d,e,f,g,h = roundtill16(a,b,c,d,e,f,g,h,w[n],sha_k[n])\n",
        "    for n in range(16,64):\n",
        "        a,b,c,d,e,f,g,h,new_var = restrounds(a,b,c,d,e,f,g,h,w_)\n",
        "        # print(\"Rounded \",n)\n",
        "        w_ = w_.at[n-16].set(new_var)\n",
        "        # w[n] = new_var\n",
        "        \n",
        "    return a,b,c,d"
      ],
      "execution_count": 57,
      "outputs": []
    },
    {
      "cell_type": "code",
      "metadata": {
        "id": "HygIFGwBlzwl"
      },
      "source": [
        "import numpy as np"
      ],
      "execution_count": 46,
      "outputs": []
    },
    {
      "cell_type": "code",
      "metadata": {
        "id": "luLfS3yFl3aF"
      },
      "source": [
        "\n",
        "key = jax.random.PRNGKey(0)\n",
        "\n",
        "def getRandom(shape):\n",
        "    return jax.random.randint(key = jax.random.PRNGKey(0),minval=0,maxval=1000,shape=shape,dtype=np.uint32)"
      ],
      "execution_count": 47,
      "outputs": []
    },
    {
      "cell_type": "code",
      "metadata": {
        "id": "rHXquDrPn0JC"
      },
      "source": [
        "# jax.make_jaxpr(func)(w)"
      ],
      "execution_count": null,
      "outputs": []
    },
    {
      "cell_type": "code",
      "metadata": {
        "id": "psSK75b9olHV"
      },
      "source": [
        "# w = jax.device_put(w)"
      ],
      "execution_count": null,
      "outputs": []
    },
    {
      "cell_type": "code",
      "metadata": {
        "id": "39bs-CDNor9C"
      },
      "source": [
        "# func = jax.jit(func)"
      ],
      "execution_count": 61,
      "outputs": []
    },
    {
      "cell_type": "code",
      "metadata": {
        "id": "m4Y973ABljJZ"
      },
      "source": [
        "batch = 1000\n",
        "# batch = 10\n",
        "# batch1 = 10\n",
        "batch2 = 1000\n",
        "# batch2 = 10\n",
        "w = getRandom((batch,batch2,64-16))\n",
        "# w = getRandom((batch,64-16,batch2))\n",
        "# w = getRandom((64-16,batch,batch2))\n",
        "# w = getRandom((64-12,batch))\n",
        "# w = getRandom((64-16,batch,batch2))\n",
        "# w = jax.device_put(w)\n",
        "# %time _ = jax.jit(func)(w)"
      ],
      "execution_count": 82,
      "outputs": []
    },
    {
      "cell_type": "code",
      "metadata": {
        "id": "wgmQf3k1w32b"
      },
      "source": [
        "vmaped_func = jax.jit(jax.vmap(func,in_axes=0))\n",
        "vmaped_func2 = jax.jit(jax.vmap(vmaped_func,in_axes=0))"
      ],
      "execution_count": 83,
      "outputs": []
    },
    {
      "cell_type": "code",
      "metadata": {
        "colab": {
          "base_uri": "https://localhost:8080/"
        },
        "id": "JQ0K7pVPVSev",
        "outputId": "be124478-b592-4d59-ebaa-4dd71dcb69e4"
      },
      "source": [
        "%time _ = func(w)[0].block_until_ready()"
      ],
      "execution_count": 81,
      "outputs": [
        {
          "output_type": "stream",
          "text": [
            "hello\n",
            "CPU times: user 162 ms, sys: 16.5 ms, total: 178 ms\n",
            "Wall time: 283 ms\n"
          ],
          "name": "stdout"
        }
      ]
    },
    {
      "cell_type": "code",
      "metadata": {
        "colab": {
          "base_uri": "https://localhost:8080/"
        },
        "id": "URla0CXSm-HG",
        "outputId": "0ea69ff0-f9b0-478a-a55b-c0fab0eff602"
      },
      "source": [
        "%time _ = vmaped_func(w)[0].block_until_ready()"
      ],
      "execution_count": 75,
      "outputs": [
        {
          "output_type": "stream",
          "text": [
            "CPU times: user 82.6 ms, sys: 976 µs, total: 83.6 ms\n",
            "Wall time: 85.2 ms\n"
          ],
          "name": "stdout"
        }
      ]
    },
    {
      "cell_type": "code",
      "metadata": {
        "colab": {
          "base_uri": "https://localhost:8080/"
        },
        "id": "V87KV10mUova",
        "outputId": "2852264a-2776-4caf-9a4b-a17582cf6765"
      },
      "source": [
        "%time _ = vmaped_func2(w)[0].block_until_ready()"
      ],
      "execution_count": 90,
      "outputs": [
        {
          "output_type": "stream",
          "text": [
            "CPU times: user 144 ms, sys: 44 µs, total: 144 ms\n",
            "Wall time: 145 ms\n"
          ],
          "name": "stdout"
        }
      ]
    },
    {
      "cell_type": "code",
      "metadata": {
        "id": "-nrur6q6BXAD"
      },
      "source": [
        "## Benchmarks on TPU\n",
        "# Jitted first 16 rounds => 14.1 ms => Details (10,10)\n",
        "# Jitted all 64 rounds, it fixed unneccessary variable declaration (see github repo for all changes)=> 4-6 ms => Details (10,10)"
      ],
      "execution_count": null,
      "outputs": []
    },
    {
      "cell_type": "code",
      "metadata": {
        "id": "NKhS6uGQ99kL"
      },
      "source": [
        "from jax.experimental.maps import xmap,mesh"
      ],
      "execution_count": 26,
      "outputs": []
    },
    {
      "cell_type": "code",
      "metadata": {
        "id": "wsmuxp2y-hlw",
        "colab": {
          "base_uri": "https://localhost:8080/",
          "height": 167
        },
        "outputId": "d96bc733-1603-4a13-d6f1-38e899f9a950"
      },
      "source": [
        "devices = np.array(jax.devices()).reshape((4,2))"
      ],
      "execution_count": 27,
      "outputs": [
        {
          "output_type": "error",
          "ename": "ValueError",
          "evalue": "ignored",
          "traceback": [
            "\u001b[0;31m---------------------------------------------------------------------------\u001b[0m",
            "\u001b[0;31mValueError\u001b[0m                                Traceback (most recent call last)",
            "\u001b[0;32m<ipython-input-27-30ff8c6331aa>\u001b[0m in \u001b[0;36m<module>\u001b[0;34m()\u001b[0m\n\u001b[0;32m----> 1\u001b[0;31m \u001b[0mdevices\u001b[0m \u001b[0;34m=\u001b[0m \u001b[0mnp\u001b[0m\u001b[0;34m.\u001b[0m\u001b[0marray\u001b[0m\u001b[0;34m(\u001b[0m\u001b[0mjax\u001b[0m\u001b[0;34m.\u001b[0m\u001b[0mdevices\u001b[0m\u001b[0;34m(\u001b[0m\u001b[0;34m)\u001b[0m\u001b[0;34m)\u001b[0m\u001b[0;34m.\u001b[0m\u001b[0mreshape\u001b[0m\u001b[0;34m(\u001b[0m\u001b[0;34m(\u001b[0m\u001b[0;36m4\u001b[0m\u001b[0;34m,\u001b[0m\u001b[0;36m2\u001b[0m\u001b[0;34m)\u001b[0m\u001b[0;34m)\u001b[0m\u001b[0;34m\u001b[0m\u001b[0;34m\u001b[0m\u001b[0m\n\u001b[0m",
            "\u001b[0;31mValueError\u001b[0m: cannot reshape array of size 1 into shape (4,2)"
          ]
        }
      ]
    },
    {
      "cell_type": "code",
      "metadata": {
        "colab": {
          "base_uri": "https://localhost:8080/",
          "height": 458
        },
        "id": "CU-t9dopoUSv",
        "outputId": "31e68067-bfa2-4394-873c-f7dac19e77a7"
      },
      "source": [
        "%%time\n",
        "    with mesh(devices, ('x','y')):\n",
        "    distributed_out = xmap(\n",
        "        func,\n",
        "        in_axes=({1: 'left', 2: 'right'}),\n",
        "        out_axes=['left', 'right', ...],\n",
        "        axis_resources={'left': 'x', 'right': 'y'})(w)"
      ],
      "execution_count": 98,
      "outputs": [
        {
          "output_type": "stream",
          "text": [
            "/usr/local/lib/python3.7/dist-packages/jax/experimental/maps.py:500: UserWarning: xmap is an experimental feature and probably has bugs!\n",
            "  warn(\"xmap is an experimental feature and probably has bugs!\")\n"
          ],
          "name": "stderr"
        },
        {
          "output_type": "error",
          "ename": "ValueError",
          "evalue": "ignored",
          "traceback": [
            "\u001b[0;31m---------------------------------------------------------------------------\u001b[0m",
            "\u001b[0;31mValueError\u001b[0m                                Traceback (most recent call last)",
            "\u001b[0;32m<ipython-input-98-d63bfe18f335>\u001b[0m in \u001b[0;36m<module>\u001b[0;34m()\u001b[0m\n\u001b[0;32m----> 1\u001b[0;31m \u001b[0mget_ipython\u001b[0m\u001b[0;34m(\u001b[0m\u001b[0;34m)\u001b[0m\u001b[0;34m.\u001b[0m\u001b[0mrun_cell_magic\u001b[0m\u001b[0;34m(\u001b[0m\u001b[0;34m'time'\u001b[0m\u001b[0;34m,\u001b[0m \u001b[0;34m''\u001b[0m\u001b[0;34m,\u001b[0m \u001b[0;34m\"with mesh(devices, ('x','y')):\\n    distributed_out = xmap(\\n        func,\\n        in_axes=({1: 'left', 2: 'right'}),\\n        out_axes=['left', 'right', ...],\\n        axis_resources={'left': 'x', 'right': 'y'})(w)\"\u001b[0m\u001b[0;34m)\u001b[0m\u001b[0;34m\u001b[0m\u001b[0;34m\u001b[0m\u001b[0m\n\u001b[0m",
            "\u001b[0;32m/usr/local/lib/python3.7/dist-packages/IPython/core/interactiveshell.py\u001b[0m in \u001b[0;36mrun_cell_magic\u001b[0;34m(self, magic_name, line, cell)\u001b[0m\n\u001b[1;32m   2115\u001b[0m             \u001b[0mmagic_arg_s\u001b[0m \u001b[0;34m=\u001b[0m \u001b[0mself\u001b[0m\u001b[0;34m.\u001b[0m\u001b[0mvar_expand\u001b[0m\u001b[0;34m(\u001b[0m\u001b[0mline\u001b[0m\u001b[0;34m,\u001b[0m \u001b[0mstack_depth\u001b[0m\u001b[0;34m)\u001b[0m\u001b[0;34m\u001b[0m\u001b[0;34m\u001b[0m\u001b[0m\n\u001b[1;32m   2116\u001b[0m             \u001b[0;32mwith\u001b[0m \u001b[0mself\u001b[0m\u001b[0;34m.\u001b[0m\u001b[0mbuiltin_trap\u001b[0m\u001b[0;34m:\u001b[0m\u001b[0;34m\u001b[0m\u001b[0;34m\u001b[0m\u001b[0m\n\u001b[0;32m-> 2117\u001b[0;31m                 \u001b[0mresult\u001b[0m \u001b[0;34m=\u001b[0m \u001b[0mfn\u001b[0m\u001b[0;34m(\u001b[0m\u001b[0mmagic_arg_s\u001b[0m\u001b[0;34m,\u001b[0m \u001b[0mcell\u001b[0m\u001b[0;34m)\u001b[0m\u001b[0;34m\u001b[0m\u001b[0;34m\u001b[0m\u001b[0m\n\u001b[0m\u001b[1;32m   2118\u001b[0m             \u001b[0;32mreturn\u001b[0m \u001b[0mresult\u001b[0m\u001b[0;34m\u001b[0m\u001b[0;34m\u001b[0m\u001b[0m\n\u001b[1;32m   2119\u001b[0m \u001b[0;34m\u001b[0m\u001b[0m\n",
            "\u001b[0;32m<decorator-gen-53>\u001b[0m in \u001b[0;36mtime\u001b[0;34m(self, line, cell, local_ns)\u001b[0m\n",
            "\u001b[0;32m/usr/local/lib/python3.7/dist-packages/IPython/core/magic.py\u001b[0m in \u001b[0;36m<lambda>\u001b[0;34m(f, *a, **k)\u001b[0m\n\u001b[1;32m    186\u001b[0m     \u001b[0;31m# but it's overkill for just that one bit of state.\u001b[0m\u001b[0;34m\u001b[0m\u001b[0;34m\u001b[0m\u001b[0;34m\u001b[0m\u001b[0m\n\u001b[1;32m    187\u001b[0m     \u001b[0;32mdef\u001b[0m \u001b[0mmagic_deco\u001b[0m\u001b[0;34m(\u001b[0m\u001b[0marg\u001b[0m\u001b[0;34m)\u001b[0m\u001b[0;34m:\u001b[0m\u001b[0;34m\u001b[0m\u001b[0;34m\u001b[0m\u001b[0m\n\u001b[0;32m--> 188\u001b[0;31m         \u001b[0mcall\u001b[0m \u001b[0;34m=\u001b[0m \u001b[0;32mlambda\u001b[0m \u001b[0mf\u001b[0m\u001b[0;34m,\u001b[0m \u001b[0;34m*\u001b[0m\u001b[0ma\u001b[0m\u001b[0;34m,\u001b[0m \u001b[0;34m**\u001b[0m\u001b[0mk\u001b[0m\u001b[0;34m:\u001b[0m \u001b[0mf\u001b[0m\u001b[0;34m(\u001b[0m\u001b[0;34m*\u001b[0m\u001b[0ma\u001b[0m\u001b[0;34m,\u001b[0m \u001b[0;34m**\u001b[0m\u001b[0mk\u001b[0m\u001b[0;34m)\u001b[0m\u001b[0;34m\u001b[0m\u001b[0;34m\u001b[0m\u001b[0m\n\u001b[0m\u001b[1;32m    189\u001b[0m \u001b[0;34m\u001b[0m\u001b[0m\n\u001b[1;32m    190\u001b[0m         \u001b[0;32mif\u001b[0m \u001b[0mcallable\u001b[0m\u001b[0;34m(\u001b[0m\u001b[0marg\u001b[0m\u001b[0;34m)\u001b[0m\u001b[0;34m:\u001b[0m\u001b[0;34m\u001b[0m\u001b[0;34m\u001b[0m\u001b[0m\n",
            "\u001b[0;32m/usr/local/lib/python3.7/dist-packages/IPython/core/magics/execution.py\u001b[0m in \u001b[0;36mtime\u001b[0;34m(self, line, cell, local_ns)\u001b[0m\n\u001b[1;32m   1191\u001b[0m         \u001b[0;32melse\u001b[0m\u001b[0;34m:\u001b[0m\u001b[0;34m\u001b[0m\u001b[0;34m\u001b[0m\u001b[0m\n\u001b[1;32m   1192\u001b[0m             \u001b[0mst\u001b[0m \u001b[0;34m=\u001b[0m \u001b[0mclock2\u001b[0m\u001b[0;34m(\u001b[0m\u001b[0;34m)\u001b[0m\u001b[0;34m\u001b[0m\u001b[0;34m\u001b[0m\u001b[0m\n\u001b[0;32m-> 1193\u001b[0;31m             \u001b[0mexec\u001b[0m\u001b[0;34m(\u001b[0m\u001b[0mcode\u001b[0m\u001b[0;34m,\u001b[0m \u001b[0mglob\u001b[0m\u001b[0;34m,\u001b[0m \u001b[0mlocal_ns\u001b[0m\u001b[0;34m)\u001b[0m\u001b[0;34m\u001b[0m\u001b[0;34m\u001b[0m\u001b[0m\n\u001b[0m\u001b[1;32m   1194\u001b[0m             \u001b[0mend\u001b[0m \u001b[0;34m=\u001b[0m \u001b[0mclock2\u001b[0m\u001b[0;34m(\u001b[0m\u001b[0;34m)\u001b[0m\u001b[0;34m\u001b[0m\u001b[0;34m\u001b[0m\u001b[0m\n\u001b[1;32m   1195\u001b[0m             \u001b[0mout\u001b[0m \u001b[0;34m=\u001b[0m \u001b[0;32mNone\u001b[0m\u001b[0;34m\u001b[0m\u001b[0;34m\u001b[0m\u001b[0m\n",
            "\u001b[0;32m<timed exec>\u001b[0m in \u001b[0;36m<module>\u001b[0;34m()\u001b[0m\n",
            "\u001b[0;32m/usr/local/lib/python3.7/dist-packages/jax/experimental/maps.py\u001b[0m in \u001b[0;36mfun_mapped\u001b[0;34m(*args)\u001b[0m\n\u001b[1;32m    598\u001b[0m                          f\"({normalized_axis_resources[axis]}, {resources.nglobal} in total)\")\n\u001b[1;32m    599\u001b[0m     frozen_global_axis_sizes = _get_axis_sizes(args_flat, in_axes_flat,\n\u001b[0;32m--> 600\u001b[0;31m                                                axis_sizes, axis_resource_count)\n\u001b[0m\u001b[1;32m    601\u001b[0m \u001b[0;34m\u001b[0m\u001b[0m\n\u001b[1;32m    602\u001b[0m     \u001b[0mmissing_sizes\u001b[0m \u001b[0;34m=\u001b[0m \u001b[0mdefined_names\u001b[0m \u001b[0;34m-\u001b[0m \u001b[0mset\u001b[0m\u001b[0;34m(\u001b[0m\u001b[0mfrozen_global_axis_sizes\u001b[0m\u001b[0;34m.\u001b[0m\u001b[0mkeys\u001b[0m\u001b[0;34m(\u001b[0m\u001b[0;34m)\u001b[0m\u001b[0;34m)\u001b[0m\u001b[0;34m\u001b[0m\u001b[0;34m\u001b[0m\u001b[0m\n",
            "\u001b[0;32m/usr/local/lib/python3.7/dist-packages/jax/experimental/maps.py\u001b[0m in \u001b[0;36m_get_axis_sizes\u001b[0;34m(args_flat, in_axes_flat, global_axis_sizes, axis_resource_count)\u001b[0m\n\u001b[1;32m   1318\u001b[0m                          f\"has rank {arg.ndim}\")\n\u001b[1;32m   1319\u001b[0m       \u001b[0;32mif\u001b[0m \u001b[0mlocal_dim_size\u001b[0m \u001b[0;34m%\u001b[0m \u001b[0mresources\u001b[0m\u001b[0;34m.\u001b[0m\u001b[0mnlocal\u001b[0m \u001b[0;34m!=\u001b[0m \u001b[0;36m0\u001b[0m\u001b[0;34m:\u001b[0m\u001b[0;34m\u001b[0m\u001b[0;34m\u001b[0m\u001b[0m\n\u001b[0;32m-> 1320\u001b[0;31m         raise ValueError(f\"One of xmap arguments has an in_axes specification of \"\n\u001b[0m\u001b[1;32m   1321\u001b[0m                          \u001b[0;34mf\"{in_axes.user_repr}, which implies that its size in dimension \"\u001b[0m\u001b[0;34m\u001b[0m\u001b[0;34m\u001b[0m\u001b[0m\n\u001b[1;32m   1322\u001b[0m                          \u001b[0;34mf\"{dim} ({local_dim_size}) should be divisible by the number of \"\u001b[0m\u001b[0;34m\u001b[0m\u001b[0;34m\u001b[0m\u001b[0m\n",
            "\u001b[0;31mValueError\u001b[0m: One of xmap arguments has an in_axes specification of {1: 'left', 2: 'right'}, which implies that its size in dimension 1 (10) should be divisible by the number of resources assigned to axis left (4)"
          ]
        }
      ]
    },
    {
      "cell_type": "code",
      "metadata": {
        "id": "B_upHopK946w"
      },
      "source": [
        ""
      ],
      "execution_count": null,
      "outputs": []
    }
  ]
}