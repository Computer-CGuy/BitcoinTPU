{
  "nbformat": 4,
  "nbformat_minor": 0,
  "metadata": {
    "colab": {
      "name": "JAX TPU | Old Songs.ipynb",
      "provenance": [],
      "collapsed_sections": [],
      "authorship_tag": "ABX9TyOsasxiifVL4JhtdISJmwGS",
      "include_colab_link": true
    },
    "kernelspec": {
      "name": "python3",
      "display_name": "Python 3"
    },
    "language_info": {
      "name": "python"
    }
  },
  "cells": [
    {
      "cell_type": "markdown",
      "metadata": {
        "id": "view-in-github",
        "colab_type": "text"
      },
      "source": [
        "<a href=\"https://colab.research.google.com/github/Computer-CGuy/BitcoinTPU/blob/main/JAX_TPU_%7C_Old_Songs.ipynb\" target=\"_parent\"><img src=\"https://colab.research.google.com/assets/colab-badge.svg\" alt=\"Open In Colab\"/></a>"
      ]
    },
    {
      "cell_type": "code",
      "metadata": {
        "id": "OGiuyD2Li1_g"
      },
      "source": [
        "use_tpu = False\n",
        "if(use_tpu):\n",
        "    import jax.tools.colab_tpu\n",
        "    jax.tools.colab_tpu.setup_tpu()\n",
        "    import jax\n",
        "    print(jax.devices())"
      ],
      "execution_count": 2,
      "outputs": []
    },
    {
      "cell_type": "code",
      "metadata": {
        "id": "WfegD63Enok9"
      },
      "source": [
        "import numpy as np\n",
        "\n",
        "# We only need to import JAX's xla_client, not all of JAX.\n",
        "from jax.lib import xla_client as xc\n",
        "from jax.lib import xla_bridge as xb\n",
        "xops = xc.ops"
      ],
      "execution_count": 3,
      "outputs": []
    },
    {
      "cell_type": "code",
      "metadata": {
        "id": "flqzVQ9MyfVp"
      },
      "source": [
        "def ROL64(a,offset):\n",
        "    return xops.Xor(xops.ShiftLeft(a,offset[0]),xops.ShiftRightArithmetic(a,offset[1]))"
      ],
      "execution_count": 4,
      "outputs": []
    },
    {
      "cell_type": "code",
      "metadata": {
        "id": "sNo2cKjezdI6"
      },
      "source": [
        "consts = [7,18,3,17,19,2,13,22,6,11,25]#[18,14],[3,29],[17,8],[19,13],[2,30],[13,19],[22,10],[6,26],[11,21],[25,7]]"
      ],
      "execution_count": 5,
      "outputs": []
    },
    {
      "cell_type": "code",
      "metadata": {
        "id": "7SgoBJb3yzez"
      },
      "source": [
        "converted = {}\n",
        "def getconsts(num):\n",
        "    global dtype\n",
        "    global converted\n",
        "    \n",
        "    try:\n",
        "        return converted[num]\n",
        "    except:\n",
        "        converted[num] = xops.Constant(miner, dtype(num))\n",
        "    return converted[num]"
      ],
      "execution_count": 6,
      "outputs": []
    },
    {
      "cell_type": "code",
      "metadata": {
        "id": "-B8-foocxngr"
      },
      "source": [
        "def _rotr(x, const):\n",
        "    offset_0 = getconsts(const)\n",
        "    offset_1 = getconsts(32-const)\n",
        "    return xops.Or(xops.ShiftLeft(x,offset_0),xops.ShiftRightArithmetic(x,offset_1))\n",
        "\n",
        "def _maj(x, y, z):\n",
        "\n",
        "    return xops.Xor(xops.And(x,y),xops.Xor(xops.And(x,y),xops.And(y,z)))\n",
        "    # return (x & y) ^ (x & z) ^ (y & z)\n",
        "\n",
        "def _ch(x, y, z):\n",
        "    return xops.Xor(xops.And(x,y),xops.And(xops.Not(x),z))\n",
        "    # return (x & y) ^ ((~x) & z)"
      ],
      "execution_count": 7,
      "outputs": []
    },
    {
      "cell_type": "code",
      "metadata": {
        "id": "B1xu6gEC2cys"
      },
      "source": [
        "def Xor3D(a,b,c):\n",
        "    return xops.Xor(a,xops.Xor(b,c))"
      ],
      "execution_count": 8,
      "outputs": []
    },
    {
      "cell_type": "code",
      "metadata": {
        "id": "DhB_u1lyw66g"
      },
      "source": [
        ""
      ],
      "execution_count": null,
      "outputs": []
    },
    {
      "cell_type": "code",
      "metadata": {
        "id": "JT4a4X1Kw6-t"
      },
      "source": [
        ""
      ],
      "execution_count": null,
      "outputs": []
    },
    {
      "cell_type": "code",
      "metadata": {
        "id": "A0LJVLwoSE75"
      },
      "source": [
        "def listSum(l):\n",
        "    sum = l[0]\n",
        "    for x in range(1,len(l)):\n",
        "        sum = xops.Add(sum,l[x])\n",
        "    return sum"
      ],
      "execution_count": 9,
      "outputs": []
    },
    {
      "cell_type": "code",
      "metadata": {
        "id": "IRUv3IGzxrK7"
      },
      "source": [
        "# Data Structure\n",
        "## 64 UINT32 of W\n",
        "## 8 UINT32 of a,b,...h"
      ],
      "execution_count": 10,
      "outputs": []
    },
    {
      "cell_type": "code",
      "metadata": {
        "id": "ueNjeqgfQGNG"
      },
      "source": [
        "dtype = np.uint32\n",
        "special_dtype = np.uint64"
      ],
      "execution_count": 11,
      "outputs": []
    },
    {
      "cell_type": "code",
      "metadata": {
        "id": "t09JFRSOVxj4"
      },
      "source": [
        "digit = xc.Shape.array_shape(np.dtype(special_dtype),())"
      ],
      "execution_count": 12,
      "outputs": []
    },
    {
      "cell_type": "code",
      "metadata": {
        "id": "8JlNEPjGvbs4"
      },
      "source": [
        "\n",
        "def generator():\n",
        "    w = [xc.Shape.array_shape(np.dtype(dtype),(batch,)) for x in range(64)]\n",
        "    rolls = [xc.Shape.array_shape(np.dtype(dtype),(batch,)) for x in range(8)]\n",
        "    # in_tuple_shape = xc.Shape.tuple_shape(w+rolls)\n",
        "    return [digit]+w+rolls"
      ],
      "execution_count": 13,
      "outputs": []
    },
    {
      "cell_type": "code",
      "metadata": {
        "id": "alghaNIQRhhi"
      },
      "source": [
        "# def inputer(types):\n",
        "#     [for x in range(types)]"
      ],
      "execution_count": 14,
      "outputs": []
    },
    {
      "cell_type": "code",
      "metadata": {
        "id": "UZaLt6U9NwT_"
      },
      "source": [
        "def degenerator(tup):\n",
        "    w = [xops.GetTupleElement(tup,x+1) for x in range(64)]\n",
        "    rolls = [xops.GetTupleElement(tup,x+64+1) for x in range(8)]\n",
        "    return w,rolls"
      ],
      "execution_count": 15,
      "outputs": []
    },
    {
      "cell_type": "code",
      "metadata": {
        "id": "e4WdsW76P4Y0"
      },
      "source": [
        "k = [0x428a2f98, 0x71374491, 0xb5c0fbcf, 0xe9b5dba5,\n",
        "      0x3956c25b, 0x59f111f1, 0x923f82a4, 0xab1c5ed5,\n",
        "      0xd807aa98, 0x12835b01, 0x243185be, 0x550c7dc3,\n",
        "      0x72be5d74, 0x80deb1fe, 0x9bdc06a7, 0xc19bf174,\n",
        "      0xe49b69c1, 0xefbe4786, 0x0fc19dc6, 0x240ca1cc,\n",
        "      0x2de92c6f, 0x4a7484aa, 0x5cb0a9dc, 0x76f988da,\n",
        "      0x983e5152, 0xa831c66d, 0xb00327c8, 0xbf597fc7,\n",
        "      0xc6e00bf3, 0xd5a79147, 0x06ca6351, 0x14292967,\n",
        "      0x27b70a85, 0x2e1b2138, 0x4d2c6dfc, 0x53380d13,\n",
        "      0x650a7354, 0x766a0abb, 0x81c2c92e, 0x92722c85,\n",
        "      0xa2bfe8a1, 0xa81a664b, 0xc24b8b70, 0xc76c51a3,\n",
        "      0xd192e819, 0xd6990624, 0xf40e3585, 0x106aa070,\n",
        "      0x19a4c116, 0x1e376c08, 0x2748774c, 0x34b0bcb5,\n",
        "      0x391c0cb3, 0x4ed8aa4a, 0x5b9cca4f, 0x682e6ff3,\n",
        "      0x748f82ee, 0x78a5636f, 0x84c87814, 0x8cc70208,\n",
        "      0x90befffa, 0xa4506ceb, 0xbef9a3f7, 0xc67178f2]"
      ],
      "execution_count": 16,
      "outputs": []
    },
    {
      "cell_type": "code",
      "metadata": {
        "id": "Y3_ag4BexhJK"
      },
      "source": [
        "\n",
        "def SHA256_hash(w,rolls,consts):\n",
        "    a,b,c,d,e,f,g,h = rolls\n",
        "    for i in range(16, 64):\n",
        "        t1 = Xor3D(_rotr(w[i-15], consts[0]),_rotr(w[i-15], consts[1]),_rotr(w[i-15], consts[2]))\n",
        "        # t1 = _rotr(w[i-15], consts[0])^_rotr(w[i-15], consts[1])^_rotr(w[i-15], consts[2])\n",
        "        t2 = Xor3D(_rotr(w[i-2], consts[3]),_rotr(w[i-2], consts[4]),_rotr(w[i-15], consts[3]))\n",
        "        # t2 = _rotr(w[i-2], consts[3])^_rotr(w[i-2], consts[4])^_rotr(w[i-15], consts[3])\n",
        "\n",
        "        w[i] = xops.Add(w[i-16],xops.Add(t1,xops.Add(w[i-7],t2)))#w[i-16] + t1 + w[i-7]+t2\n",
        "        \n",
        "    for i in range(64): \n",
        "        \n",
        "        t2 = Xor3D(_rotr(a, consts[5]),_rotr(a, consts[6]),_rotr(a, consts[7]))\n",
        "        # torch.bitwise_xor(_rotr(a, consts[5]), _rotr(a, consts[6]),out=t2)\n",
        "        # torch.bitwise_xor(t2,_rotr(a, consts[7]),out=t2)\n",
        "\n",
        "        # s0[:] = _rotr(chrs[i%8], 2) ^ _rotr(chrs[i%8], 13) ^ _rotr(chrs[i%8], 22)\n",
        "        t2 = xops.Add(t2 ,_maj(a, b, c))\n",
        "\n",
        "        s1 = (Xor3D(_rotr(e, consts[8]),_rotr(e, consts[9]),_rotr(e, consts[10])))\n",
        "        # torch.bitwise_xor(_rotr(e, consts[8]), _rotr(e, consts[9]),out=t1)\n",
        "        # torch.bitwise_xor(t1,_rotr(e, consts[10]),out=t1)\n",
        "        t1 = listSum([h,t1,_ch(e,f,g),getconsts(k[i]),t1,w[i]])\n",
        "        # s1[:] = _rotr(chrs[(i+4)%8], 6) ^ _rotr(chrs[(i+4)%8], 11) ^ _rotr(chrs[(i+4)%8], 25)\n",
        "        # torch.add(h,t1,out=t1)\n",
        "        # torch.add(_ch(e,f,g) + k[i],t1+w[i],out=t1)\n",
        "        # t1[:] = chrs[(i+7)%8] + s1 + _ch(chrs[(i+4)%8], chrs[(i+5)%8], chrs[(i+6)%8]) + k[i] + w[i]\n",
        "        \n",
        "        h = g\n",
        "        g = f\n",
        "        f = e\n",
        "        e = xops.Add(d, t1)\n",
        "        # torch.bitwise_and(e, F32,out=e)\n",
        "        d = c\n",
        "        c = b\n",
        "        b = a\n",
        "        a = xops.Add(t1,t2)\n",
        "        # torch.add(t1, t2,out=a)\n",
        "        # xm.mark_step()\n",
        "        # torch.bitwise_and(a, F32,out=a)\n",
        "        # a = (t1 + t2) & F32\n",
        "    return w+[a,b,c,d,e,f,g,h]"
      ],
      "execution_count": 17,
      "outputs": []
    },
    {
      "cell_type": "code",
      "metadata": {
        "id": "grcWDvJxYHLY"
      },
      "source": [
        "# type(in_tuple_shape[0])"
      ],
      "execution_count": 18,
      "outputs": []
    },
    {
      "cell_type": "code",
      "metadata": {
        "id": "ovj2NyXIOSr8"
      },
      "source": [
        "miner = xc.XlaBuilder(\"Main Function\")\n",
        "converted = {}\n",
        "batch = 1\n",
        "\n",
        "num = xc.Shape.array_shape(np.dtype(dtype),(batch,))\n",
        "in_tuple_shape = generator()\n",
        "in_tuple_shape = xc.Shape.tuple_shape(in_tuple_shape)\n",
        "tup = xops.Parameter(miner,0,in_tuple_shape)\n",
        "\n",
        "counter_ = xops.GetTupleElement(tup,0)\n",
        "counter_ = xops.Add(counter_,xops.Constant(miner, special_dtype(1)))\n",
        "\n",
        "w,rolls = degenerator(tup)\n",
        "\n",
        "ans = SHA256_hash(w,rolls,consts)\n",
        "ans = [counter_]+ans\n",
        "\n",
        "output = xops.Tuple(miner,ans)\n",
        "\n",
        "body_computation = miner.build()\n",
        "# run(miner,batch=batch)"
      ],
      "execution_count": 38,
      "outputs": []
    },
    {
      "cell_type": "code",
      "metadata": {
        "id": "yzIxm8JxPB7H"
      },
      "source": [
        "\n",
        "def run(c,batch=1,build=None):\n",
        "    if(use_tpu):\n",
        "        cpu_backend = xb._get_tpu_driver_backend(\"tpu\")\n",
        "    else:\n",
        "        cpu_backend = xc.get_local_backend(\"cpu\")\n",
        "    if(not build):\n",
        "        computation = c.Build()\n",
        "    else:\n",
        "        computation = build\n",
        "    \n",
        "    compiled_computation = cpu_backend.compile(computation)\n",
        "\n",
        "    As = np.random.randint(0,0xFFFFFFFF-1,(64+8,batch),dtype=dtype)\n",
        "    # state = [cpu_backend.buffer_from_pyval(dtype(0)),cpu_backend.buffer_from_pyval(dtype(ROUNDS))]\n",
        "    state = [cpu_backend.buffer_from_pyval(special_dtype(0))]\n",
        "    print(\"Evalving\")\n",
        "    for x in range(64+8):\n",
        "        state.append(cpu_backend.buffer_from_pyval(As[x]))\n",
        "    print(\"Started\")\n",
        "    out = timed(compiled_computation.execute,state,rate=True,batch=batch)\n",
        "    out = timed(compiled_computation.execute,out,rate=True,batch=batch)\n",
        "    print(out[0])"
      ],
      "execution_count": 29,
      "outputs": []
    },
    {
      "cell_type": "code",
      "metadata": {
        "id": "w4YVeBHeoBz8"
      },
      "source": [
        "def timed(runer,args,rate=False,batch=1):\n",
        "    global times\n",
        "    import time\n",
        "    t0 = time.time()\n",
        "    ret = runer(args)\n",
        "    t1 = time.time()\n",
        "    if(rate):\n",
        "        print(f\"{batch*times/((t1-t0)):,}\")\n",
        "        return ret\n",
        "    print(f\"{(t1-t0):,}s\")\n",
        "    return ret"
      ],
      "execution_count": 21,
      "outputs": []
    },
    {
      "cell_type": "code",
      "metadata": {
        "id": "cITxhhaakHIe"
      },
      "source": [
        "# times = 0xffffffff\n",
        "times = 0xffff"
      ],
      "execution_count": 39,
      "outputs": []
    },
    {
      "cell_type": "code",
      "metadata": {
        "id": "31VdJaQXRzI9"
      },
      "source": [
        "# test computation:\n",
        "tcb = xc.XlaBuilder(\"testcomp\")\n",
        "tup = xops.Parameter(tcb, 0, in_tuple_shape)\n",
        "x = xops.GetTupleElement(tup,0)\n",
        "\n",
        "const0 = xops.Constant(tcb, special_dtype(times))\n",
        "y = xops.Gt(const0, x)\n",
        "test_computation = tcb.Build()"
      ],
      "execution_count": 40,
      "outputs": []
    },
    {
      "cell_type": "code",
      "metadata": {
        "id": "0HtZdzAjR1zY"
      },
      "source": [
        "wcb = xc.XlaBuilder(\"whilecomp\")\n",
        "counter = xops.Parameter(wcb, 0, digit)\n",
        "records = [counter]\n",
        "for x in range(64+8):\n",
        "    records.append(xops.Parameter(wcb, x+1, num))\n",
        "\n",
        "# mixedTuple = xc.Shape.Tuple(counter,xc.Shape.tuple_shape(x))\n",
        "res = xops.Tuple(wcb,records)\n",
        "# res = xops.Tuple(wcb,[counter,b])\n",
        "xops.While(test_computation, body_computation, res)\n",
        "wc = wcb.build()"
      ],
      "execution_count": 41,
      "outputs": []
    },
    {
      "cell_type": "code",
      "metadata": {
        "id": "cRdpswYbeSCg"
      },
      "source": [
        "times = 0xffffffff\n",
        "times = 0xffff\n",
        "# times = 0x1fffff"
      ],
      "execution_count": 42,
      "outputs": []
    },
    {
      "cell_type": "code",
      "metadata": {
        "colab": {
          "base_uri": "https://localhost:8080/"
        },
        "id": "gHQGpR0wkGJ3",
        "outputId": "797338b9-a1a5-4776-d3f0-d0efab2316d4"
      },
      "source": [
        "455,992,163,188.38776\n",
        "0x1fffff\n",
        "\n",
        "893,128,334,421,798.8\n",
        "0xffffffff"
      ],
      "execution_count": 25,
      "outputs": [
        {
          "output_type": "execute_result",
          "data": {
            "text/plain": [
              "4294967295"
            ]
          },
          "metadata": {
            "tags": []
          },
          "execution_count": 25
        }
      ]
    },
    {
      "cell_type": "code",
      "metadata": {
        "id": "edhVnXJEsueC"
      },
      "source": [
        "use_tpu = False"
      ],
      "execution_count": 26,
      "outputs": []
    },
    {
      "cell_type": "code",
      "metadata": {
        "colab": {
          "base_uri": "https://localhost:8080/"
        },
        "id": "4k4PalwYvSA9",
        "outputId": "3b1548d8-b443-487f-b823-2c2adedab3f0"
      },
      "source": [
        "0xffff"
      ],
      "execution_count": 28,
      "outputs": [
        {
          "output_type": "execute_result",
          "data": {
            "text/plain": [
              "65535"
            ]
          },
          "metadata": {
            "tags": []
          },
          "execution_count": 28
        }
      ]
    },
    {
      "cell_type": "code",
      "metadata": {
        "colab": {
          "base_uri": "https://localhost:8080/"
        },
        "id": "LOsMIy5UdT3Q",
        "outputId": "e3de2bdc-8f09-4cf6-db33-cd29df0acbc2"
      },
      "source": [
        "# times = 1000\n",
        "run(wcb,batch=batch,build=wc)\n",
        "# print(times*batch)"
      ],
      "execution_count": 43,
      "outputs": [
        {
          "output_type": "stream",
          "text": [
            "Evalving\n",
            "Started\n",
            "31,417,729.18504972\n",
            "131,960,495.74651945\n",
            "65535\n"
          ],
          "name": "stdout"
        }
      ]
    },
    {
      "cell_type": "markdown",
      "metadata": {
        "id": "ibCt40BugVVh"
      },
      "source": [
        "## Statistics\n",
        "#### For times = 0xffffffff and  batch = 100\n",
        "CPU 835,547,240,504,994.3 749,039,438,889,300.6\n",
        "\n",
        "GPU Taking Long Time\n",
        "\n",
        "#### For times = 0xffff and  batch = 10000\n",
        "\n",
        "GPU 187,438,428.11608002\n",
        "\n",
        "#### For times = 0xffff and batch = 100\n",
        "\n",
        "TPU 2,551,479.917635661\n",
        "\n",
        "Batch = 1000 TPU 19,640,038.66077995\n",
        "Batch = 10000 TPU 68,014,291.50328211\n",
        "\n"
      ]
    },
    {
      "cell_type": "markdown",
      "metadata": {
        "id": "7A1-8dvrQXS7"
      },
      "source": [
        "## TODO\n",
        "- [ ] Implement getTupleElement Range on JAX"
      ]
    }
  ]
}